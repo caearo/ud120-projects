{
 "cells": [
  {
   "cell_type": "code",
   "execution_count": 36,
   "metadata": {
    "collapsed": false
   },
   "outputs": [],
   "source": [
    "import pickle\n",
    "from pandas import DataFrame\n",
    "\n",
    "import sys\n",
    "sys.path.append(\"../tools/\")\n",
    "from feature_format import featureFormat, targetFeatureSplit"
   ]
  },
  {
   "cell_type": "code",
   "execution_count": 2,
   "metadata": {
    "collapsed": true
   },
   "outputs": [],
   "source": [
    "### Load the dictionary containing the dataset\n",
    "with open(\"final_project_dataset.pkl\", 'r') as data_file:\n",
    "    data_dict = pickle.load(data_file)"
   ]
  },
  {
   "cell_type": "code",
   "execution_count": 25,
   "metadata": {
    "collapsed": false
   },
   "outputs": [
    {
     "name": "stdout",
     "output_type": "stream",
     "text": [
      "(146, 21)\n"
     ]
    }
   ],
   "source": [
    "df = DataFrame.from_dict(data_dict, orient = 'index')\n",
    "print df.shape"
   ]
  },
  {
   "cell_type": "code",
   "execution_count": 32,
   "metadata": {
    "collapsed": false
   },
   "outputs": [
    {
     "data": {
      "text/plain": [
       "salary                       0.0\n",
       "to_messages                  0.0\n",
       "deferral_payments            0.0\n",
       "total_payments               0.0\n",
       "exercised_stock_options      0.0\n",
       "bonus                        0.0\n",
       "restricted_stock             0.0\n",
       "shared_receipt_with_poi      0.0\n",
       "restricted_stock_deferred    0.0\n",
       "total_stock_value            0.0\n",
       "expenses                     0.0\n",
       "loan_advances                0.0\n",
       "from_messages                0.0\n",
       "other                        0.0\n",
       "from_this_person_to_poi      0.0\n",
       "poi                          0.0\n",
       "director_fees                0.0\n",
       "deferred_income              0.0\n",
       "long_term_incentive          0.0\n",
       "email_address                0.0\n",
       "from_poi_to_this_person      0.0\n",
       "dtype: float64"
      ]
     },
     "execution_count": 32,
     "metadata": {},
     "output_type": "execute_result"
    }
   ],
   "source": [
    "df.isnull().sum() / df.shape[0]"
   ]
  },
  {
   "cell_type": "code",
   "execution_count": 34,
   "metadata": {
    "collapsed": false
   },
   "outputs": [
    {
     "data": {
      "text/plain": [
       "Index([u'salary', u'to_messages', u'deferral_payments', u'total_payments',\n",
       "       u'exercised_stock_options', u'bonus', u'restricted_stock',\n",
       "       u'shared_receipt_with_poi', u'restricted_stock_deferred',\n",
       "       u'total_stock_value', u'expenses', u'loan_advances', u'from_messages',\n",
       "       u'other', u'from_this_person_to_poi', u'poi', u'director_fees',\n",
       "       u'deferred_income', u'long_term_incentive', u'email_address',\n",
       "       u'from_poi_to_this_person'],\n",
       "      dtype='object')"
      ]
     },
     "execution_count": 34,
     "metadata": {},
     "output_type": "execute_result"
    }
   ],
   "source": [
    "df.columns"
   ]
  },
  {
   "cell_type": "code",
   "execution_count": 41,
   "metadata": {
    "collapsed": false
   },
   "outputs": [
    {
     "name": "stdout",
     "output_type": "stream",
     "text": [
      "<type 'numpy.ndarray'>\n",
      "(95, 2)\n"
     ]
    }
   ],
   "source": [
    "my_dataset = data_dict\n",
    "features_list = ['poi', 'salary']\n",
    "data = featureFormat(my_dataset, features_list, sort_keys = True)\n",
    "print type(data)\n",
    "print data.shape"
   ]
  }
 ],
 "metadata": {
  "kernelspec": {
   "display_name": "Python 2",
   "language": "python",
   "name": "python2"
  },
  "language_info": {
   "codemirror_mode": {
    "name": "ipython",
    "version": 2
   },
   "file_extension": ".py",
   "mimetype": "text/x-python",
   "name": "python",
   "nbconvert_exporter": "python",
   "pygments_lexer": "ipython2",
   "version": "2.7.11"
  }
 },
 "nbformat": 4,
 "nbformat_minor": 0
}
